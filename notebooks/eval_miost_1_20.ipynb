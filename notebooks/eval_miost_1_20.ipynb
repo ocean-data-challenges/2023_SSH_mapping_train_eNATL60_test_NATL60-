{
 "cells": [
  {
   "cell_type": "markdown",
   "id": "87e39235",
   "metadata": {},
   "source": [
    "# Evaluation MIOST: "
   ]
  },
  {
   "cell_type": "code",
   "execution_count": null,
   "id": "5e54c7a0",
   "metadata": {
    "tags": []
   },
   "outputs": [],
   "source": [
    "import xarray as xr\n",
    "import numpy\n",
    "import hvplot.xarray\n",
    "import pyinterp\n",
    "import dask\n",
    "import warnings\n",
    "import xrft\n",
    "import os\n",
    "import sys\n",
    "import pandas as pd\n",
    "import logging\n",
    "warnings.filterwarnings('ignore')\n",
    "import numpy as np"
   ]
  },
  {
   "cell_type": "markdown",
   "id": "cad105fc-2661-49d6-99f4-be85fdcccb57",
   "metadata": {},
   "source": [
    "##  1. Input files"
   ]
  },
  {
   "cell_type": "markdown",
   "id": "2c6cbcfb",
   "metadata": {},
   "source": [
    "##### libraries versions"
   ]
  },
  {
   "cell_type": "code",
   "execution_count": null,
   "id": "00685047",
   "metadata": {
    "tags": []
   },
   "outputs": [],
   "source": [
    "print('xarray', xr.__version__)\n",
    "print('numpy', numpy.__version__)\n",
    "print('hvplot', hvplot.__version__)\n",
    "print('pyinterp', pyinterp.__version__)\n",
    "print('dask', dask.__version__)\n",
    "print('logging', logging.__version__)\n",
    "print('xrft', xrft.__version__)"
   ]
  },
  {
   "cell_type": "code",
   "execution_count": null,
   "id": "8667c417",
   "metadata": {
    "tags": []
   },
   "outputs": [],
   "source": [
    "logger = logging.getLogger()\n",
    "logger.setLevel(logging.INFO)"
   ]
  },
  {
   "cell_type": "code",
   "execution_count": null,
   "id": "c1ebe6b8",
   "metadata": {
    "tags": []
   },
   "outputs": [],
   "source": [
    "sys.path.append('..')"
   ]
  },
  {
   "cell_type": "code",
   "execution_count": null,
   "id": "d1e3de9b",
   "metadata": {
    "tags": []
   },
   "outputs": [],
   "source": [
    "from src.mod_regrid import *\n",
    "from src.mod_eval import *\n",
    "from src.mod_plot import *"
   ]
  },
  {
   "cell_type": "markdown",
   "id": "b4284a0a-52de-4d58-8880-aca766ebc204",
   "metadata": {},
   "source": [
    "### 1.1 Read Nature run SSH for mapping evaluation"
   ]
  },
  {
   "cell_type": "code",
   "execution_count": null,
   "id": "0dc9e71e-e300-4b15-b739-375ef6098c7c",
   "metadata": {
    "tags": []
   },
   "outputs": [],
   "source": [
    "if not os.path.exists('../ds_ref/ds_ref_1_20.nc'):\n",
    "    print('ds_ref file not found...')\n",
    "    print('download it...')\n",
    "    os.makedirs('../ds_ref/',exist_ok=True)\n",
    "    # Get nature run (it may take several minutes depending on your connection!!!!)\n",
    "    !wget -O ds_ref_1_20.nc https://s3.eu-central-1.wasabisys.com/melody/data_challenge_Daniel_Guillaume/public/dc_ref/NATL60-CJM165-daily-reg-1_20.nc\n",
    "ds_ref = xr.open_dataset('./ds_ref_1_20.nc')\n",
    "ds_ref"
   ]
  },
  {
   "cell_type": "markdown",
   "id": "2d2f1bbe-7430-45dd-8a60-8b93d9b5884a",
   "metadata": {
    "tags": []
   },
   "source": [
    "### 1.2 Read MIOST SSH reconstruction"
   ]
  },
  {
   "cell_type": "code",
   "execution_count": null,
   "id": "67b24d58-a6b8-47bd-803d-085a06d892e4",
   "metadata": {},
   "outputs": [],
   "source": [
    "if not os.path.exists('../ds_rec/ds_rec_miost_1_20.nc'):\n",
    "    print('ds_rec file not found...')\n",
    "    print('download it...')\n",
    "    !wget -O ../ds_rec/ds_rec_miost_1_20.nc https://s3.eu-central-1.wasabisys.com/melody/data_challenge_Daniel_Guillaume/public/mappings/miost/1_20/mapping_miost_Natl60_1_20_alg_c2_h2ag_h2b_j3_s3a_s3b_component_geos_lwe_barotrop.nc\n",
    "\n",
    "ds_rec = xr.open_dataset('../ds_rec/ds_rec_miost_1_20.nc')\n",
    "ds_rec"
   ]
  },
  {
   "cell_type": "code",
   "execution_count": null,
   "id": "3ee39162-b753-42ca-abf6-f547492f094d",
   "metadata": {
    "tags": []
   },
   "outputs": [],
   "source": [
    "ds_rec=ds_rec.rename({'longitude':'lon', 'latitude':'lat'})"
   ]
  },
  {
   "cell_type": "code",
   "execution_count": null,
   "id": "3ffb2109-8966-4210-86e6-a95855bad76a",
   "metadata": {
    "tags": []
   },
   "outputs": [],
   "source": [
    "ds_ref = ds_ref.sel(dict(lat=slice(27,46),lon=slice(-66,-47)))\n",
    "ds_rec = ds_rec.sel(dict(lat=slice(27,46),lon=slice(-66,-47)))"
   ]
  },
  {
   "cell_type": "code",
   "execution_count": null,
   "id": "c2927a7d-666b-491e-b792-a1a76cd17e4f",
   "metadata": {
    "tags": []
   },
   "outputs": [],
   "source": [
    "ds_ref"
   ]
  },
  {
   "cell_type": "code",
   "execution_count": null,
   "id": "42758a2c-7d5f-41e7-bc91-cac19452c448",
   "metadata": {
    "tags": []
   },
   "outputs": [],
   "source": [
    "ds_rec"
   ]
  },
  {
   "cell_type": "markdown",
   "id": "2a3a5890-e542-4350-a983-28b0a71e265b",
   "metadata": {},
   "source": [
    "### 1.3 Regrid SSH reconstructions onto nature run grid (if needed)"
   ]
  },
  {
   "cell_type": "code",
   "execution_count": null,
   "id": "626b65a8-38b1-4f36-9fbf-dd17742fed55",
   "metadata": {
    "tags": []
   },
   "outputs": [],
   "source": [
    "ds_rec = rec_regrid(ds_rec, ds_ref, field='sla')"
   ]
  },
  {
   "cell_type": "code",
   "execution_count": null,
   "id": "87ca29e5-a3dc-4172-a1ee-e081411c1f04",
   "metadata": {
    "tags": []
   },
   "outputs": [],
   "source": [
    "ds_rec"
   ]
  },
  {
   "cell_type": "code",
   "execution_count": null,
   "id": "349667f2-84a3-4dba-a158-9075279efc81",
   "metadata": {
    "tags": []
   },
   "outputs": [],
   "source": [
    "ds_ref"
   ]
  },
  {
   "cell_type": "code",
   "execution_count": null,
   "id": "2828af52-82e4-48e1-82a5-69a5bea81ee5",
   "metadata": {
    "tags": []
   },
   "outputs": [],
   "source": [
    "ds_rec=ds_rec.assign(ssh=ds_rec.sla+ds_ref.mdt)"
   ]
  },
  {
   "cell_type": "code",
   "execution_count": null,
   "id": "8c6b6450-04b8-4771-b421-ea8ca5bbd1f3",
   "metadata": {
    "tags": []
   },
   "outputs": [],
   "source": [
    "ds_ref"
   ]
  },
  {
   "cell_type": "markdown",
   "id": "cf8140bf-5eb1-4c0d-aef7-27cc2367aecd",
   "metadata": {},
   "source": [
    "## 2. Select periods (whole year, seasons) and domain of evaluation"
   ]
  },
  {
   "cell_type": "code",
   "execution_count": null,
   "id": "2ce34d49",
   "metadata": {
    "tags": []
   },
   "outputs": [],
   "source": [
    "# # Seasons for seasonal evaluation\n",
    "Whole_year = slice(numpy.datetime64('2012-10-21') , numpy.datetime64('2013-09-10'))\n",
    "Mid_autumn = slice(numpy.datetime64('2012-10-21') , numpy.datetime64('2012-11-30'))\n",
    "Mid_winter = slice(numpy.datetime64('2013-02-01') , numpy.datetime64('2013-03-13'))\n",
    "Mid_spring = slice(numpy.datetime64('2013-04-30') , numpy.datetime64('2013-06-09'))\n",
    "Mid_summer = slice(numpy.datetime64('2013-07-11') , numpy.datetime64('2013-08-20'))\n",
    "\n",
    "# # Domain for analysis : GF\n",
    "lon_min = -64                                        # domain min lon\n",
    "lon_max = -49                                       # domain max lon\n",
    "lat_min = 29                                         # domain min lat\n",
    "lat_max = 44                                        # domain max lat"
   ]
  },
  {
   "cell_type": "code",
   "execution_count": null,
   "id": "7d340abb",
   "metadata": {
    "tags": []
   },
   "outputs": [],
   "source": [
    "## whole year\n",
    "ds_ref_whole_year = ds_ref.sel(time=Whole_year , lon=slice(lon_min, lon_max), lat=slice(lat_min, lat_max), drop=True)\n",
    "ds_rec_whole_year = ds_rec.sel(time=Whole_year , lon=slice(lon_min, lon_max), lat=slice(lat_min, lat_max), drop=True)\n",
    "## seasons\n",
    "ds_ref_seasonal = [ds_ref.sel(time=Mid_autumn , lon=slice(lon_min, lon_max), lat=slice(lat_min, lat_max), drop=True),\n",
    "                   ds_ref.sel(time=Mid_winter , lon=slice(lon_min, lon_max), lat=slice(lat_min, lat_max), drop=True),\n",
    "                   ds_ref.sel(time=Mid_spring , lon=slice(lon_min, lon_max), lat=slice(lat_min, lat_max), drop=True),\n",
    "                   ds_ref.sel(time=Mid_summer , lon=slice(lon_min, lon_max), lat=slice(lat_min, lat_max), drop=True)]\n",
    "\n",
    "ds_rec_seasonal = [ds_rec.sel(time=Mid_autumn , lon=slice(lon_min, lon_max), lat=slice(lat_min, lat_max), drop=True),\n",
    "                   ds_rec.sel(time=Mid_winter , lon=slice(lon_min, lon_max), lat=slice(lat_min, lat_max), drop=True),\n",
    "                   ds_rec.sel(time=Mid_spring , lon=slice(lon_min, lon_max), lat=slice(lat_min, lat_max), drop=True),\n",
    "                   ds_rec.sel(time=Mid_summer , lon=slice(lon_min, lon_max), lat=slice(lat_min, lat_max), drop=True)]"
   ]
  },
  {
   "cell_type": "code",
   "execution_count": null,
   "id": "779a7cb9-55a6-481b-a30a-fa928b8bcbbd",
   "metadata": {
    "tags": []
   },
   "outputs": [],
   "source": [
    "date_seasonal_ref=np.asarray([ds_ref_seasonal[j].time.size for j in range(len(ds_ref_seasonal))])\n",
    "date_seasonal_rec=np.asarray([ds_rec_seasonal[j].time.size for j in range(len(ds_rec_seasonal))])\n",
    "if not (np.all(date_seasonal_ref == date_seasonal_ref[0]) and np.all(date_seasonal_rec == date_seasonal_rec[0])):\n",
    "    raise ValueError('Every seasonal datasets must have the same size along time axis ')"
   ]
  },
  {
   "cell_type": "code",
   "execution_count": null,
   "id": "b6d31eb4-0ae7-467a-a6f1-219496557b15",
   "metadata": {
    "tags": []
   },
   "outputs": [],
   "source": [
    "ds_rec_whole_year"
   ]
  },
  {
   "cell_type": "code",
   "execution_count": null,
   "id": "3491670d-8c74-4a48-957b-b5dc52f8695d",
   "metadata": {
    "tags": []
   },
   "outputs": [],
   "source": [
    "ds_ref_whole_year"
   ]
  },
  {
   "cell_type": "markdown",
   "id": "77934399",
   "metadata": {},
   "source": [
    "##  3. Evaluation MIOST"
   ]
  },
  {
   "cell_type": "code",
   "execution_count": null,
   "id": "ce68c3bf",
   "metadata": {
    "tags": []
   },
   "outputs": [],
   "source": [
    "output_directory = '../results/'\n",
    "if not os.path.exists(output_directory):\n",
    "    os.mkdir(output_directory) "
   ]
  },
  {
   "cell_type": "code",
   "execution_count": null,
   "id": "fc542510-42d2-4e85-bde6-3fd27f4488fa",
   "metadata": {
    "tags": []
   },
   "outputs": [],
   "source": [
    "!pip install tabulate"
   ]
  },
  {
   "cell_type": "markdown",
   "id": "462b4941-0933-4f8b-ba11-a286320dc0db",
   "metadata": {},
   "source": [
    "### 3.1 Whole year evaluation"
   ]
  },
  {
   "cell_type": "code",
   "execution_count": null,
   "id": "1bd742e0",
   "metadata": {
    "tags": []
   },
   "outputs": [],
   "source": [
    "# Eval\n",
    "rmse_t, rmse_xy, leaderboard_nrmse, leaderboard_nrmse_std = rmse_based_scores(ds_rec_whole_year, ds_ref_whole_year)\n",
    "psd, leaderboard_psds_score, leaderboard_psdt_score  = psd_based_scores(ds_rec_whole_year, ds_ref_whole_year)\n",
    "\n",
    "\n",
    "filename_rmse_t = output_directory + 'rmse_t_miost_ssh_reconstruction_2012-10-21-2013-09-10_alg_c2_h2ag_h2b_j3_s3a_s3b.nc'\n",
    "filename_rmse_xy = output_directory + 'rmse_xy_miost_ssh_reconstruction_2012-10-21-2013-09-10_alg_c2_h2ag_h2b_j3_s3a_s3b.nc'\n",
    "filename_psd = output_directory + 'psd_miost_ssh_reconstruction_2012-10-21-2013-09-10_alg_c2_h2ag_h2b_j3_s3a_s3b.nc'\n",
    "# Save results\n",
    "# rmse_t.to_netcdf(filename_rmse_t)\n",
    "# rmse_xy.to_netcdf(filename_rmse_xy)\n",
    "psd.name = 'psd_score'\n",
    "# psd.to_netcdf(filename_psd)\n",
    "\n",
    "# Print leaderboard\n",
    "data = [['MIOST', \n",
    "         leaderboard_nrmse, \n",
    "         leaderboard_nrmse_std, \n",
    "         leaderboard_psds_score, \n",
    "         leaderboard_psdt_score,\n",
    "        'GF',\n",
    "        'eval_miost.ipynb']]\n",
    "\n",
    "Leaderboard = pd.DataFrame(data, \n",
    "                           columns=['Method', \n",
    "                                    \"µ(RMSE) \", \n",
    "                                    \"σ(RMSE)\", \n",
    "                                    'λx (degree)', \n",
    "                                    'λt (days)', \n",
    "                                    'Domain',\n",
    "                                    'Reference'])\n",
    "print(\"Summary of the leaderboard metrics, over the whole year:\")\n",
    "Leaderboard\n",
    "print(Leaderboard.to_markdown())"
   ]
  },
  {
   "cell_type": "code",
   "execution_count": null,
   "id": "a2a928e0",
   "metadata": {
    "tags": []
   },
   "outputs": [],
   "source": [
    "rmse_t.hvplot.line(x='time', y='rmse_t', ylim=(0, 1), cmap=['royalblue'], title='RMSE-based scores')"
   ]
  },
  {
   "cell_type": "markdown",
   "id": "c16fabed",
   "metadata": {},
   "source": [
    "The figure above shows the time series of the RMSE scores for the reconstruction of SSH."
   ]
  },
  {
   "cell_type": "code",
   "execution_count": null,
   "id": "7fbd27b4",
   "metadata": {
    "tags": []
   },
   "outputs": [],
   "source": [
    "rmse_xy.hvplot.contourf(x='lon', y='lat', levels=list(numpy.arange(0.,0.5, 0.05)), height=300, width=400, cmap='Reds', subplots=True, clabel='RMSE[m]')"
   ]
  },
  {
   "cell_type": "code",
   "execution_count": null,
   "id": "5ab11c86",
   "metadata": {
    "tags": []
   },
   "outputs": [],
   "source": [
    "psd = psd.expand_dims({'experiment':1})\n",
    "psd['experiment'] = ['Whole year']\n",
    "plot_psd_score(psd,time_min=5,time_max=25, step_time=5)"
   ]
  },
  {
   "cell_type": "markdown",
   "id": "b7405c7d",
   "metadata": {},
   "source": [
    "The PSD-based score evaluates the spatio-temporal scales resolved in mapping (green area). Resolution limits can be defined as the contour where the PSD score = 0.5, black contour in the figure (i.e. space-time scales where the reconstruction SSH error level is 2 times lower than the real SSH signal). "
   ]
  },
  {
   "cell_type": "markdown",
   "id": "7d34a1bd-a12d-4e81-ab1a-0457fa0d3e68",
   "metadata": {},
   "source": [
    "### 3.2 Seasonal evaluation "
   ]
  },
  {
   "cell_type": "code",
   "execution_count": null,
   "id": "e27c7672-f65b-4140-b586-6001e53ff413",
   "metadata": {},
   "outputs": [],
   "source": [
    "Seasons = ['Mid_autumn','Mid_winter','Mid_spring','Mid_summer']\n",
    "Leaderboard_seasonal = []\n",
    "Psd_seasonal = []\n",
    "Data = []\n",
    "Method = ['MIOST','','','']\n",
    "Domain = ['GF','','','']\n",
    "Reference = ['eval_miost.ipynb','','','']\n",
    "\n",
    "for i,ds_ref, ds_rec in zip(np.arange(len(Seasons)),ds_ref_seasonal, ds_rec_seasonal): \n",
    "    # Eval\n",
    "    rmse_t, rmse_xy, leaderboard_nrmse, leaderboard_nrmse_std = rmse_based_scores(ds_rec, ds_ref)\n",
    "    psd, leaderboard_psds_score, leaderboard_psdt_score  = psd_based_scores(ds_rec, ds_ref)\n",
    "\n",
    "\n",
    "    filename_rmse_t = output_directory + 'rmse_t_miost_ssh_reconstruction_2012-10-21-2013-09-10_alg_c2_h2ag_h2b_j3_s3a_s3b.nc'\n",
    "    filename_rmse_xy = output_directory + 'rmse_xy_miost_ssh_reconstruction_2012-10-21-2013-09-10_alg_c2_h2ag_h2b_j3_s3a_s3b.nc'\n",
    "    filename_psd = output_directory + 'psd_miost_ssh_reconstruction_2012-10-21-2013-09-10_alg_c2_h2ag_h2b_j3_s3a_s3b.nc'\n",
    "    # Save results\n",
    "    # rmse_t.to_netcdf(filename_rmse_t)\n",
    "    # rmse_xy.to_netcdf(filename_rmse_xy)\n",
    "    psd.name = 'psd_score'\n",
    "    # psd.to_netcdf(filename_psd)\n",
    "\n",
    "    # Print leaderboard\n",
    "    Data.append([Method[i],\n",
    "             Seasons[i],\n",
    "             leaderboard_nrmse, \n",
    "             leaderboard_nrmse_std, \n",
    "             leaderboard_psds_score, \n",
    "             leaderboard_psdt_score,\n",
    "             Domain[i],\n",
    "             Reference[i]])\n",
    "\n",
    "    Psd_seasonal.append(psd)\n",
    "    \n",
    "Leaderboard_seasonal=pd.DataFrame(Data, \n",
    "                            columns=(['Method',\n",
    "                                     'Season',\n",
    "                                     \"µ(RMSE) \", \n",
    "                                     \"σ(RMSE)\", \n",
    "                                     'λx (degree)', \n",
    "                                     'λt (days)', \n",
    "                                     'Domain',\n",
    "                                     'Reference']))\n",
    "    \n",
    "print(\"Summary of the leaderboard metrics, for each season:\")\n",
    "print(Leaderboard_seasonal.to_markdown())"
   ]
  },
  {
   "cell_type": "code",
   "execution_count": null,
   "id": "74ae40f8-2f05-43dc-a075-f99b74094392",
   "metadata": {
    "tags": []
   },
   "outputs": [],
   "source": [
    "psd_concat = xr.concat((Psd_seasonal[0], Psd_seasonal[1], Psd_seasonal[2], Psd_seasonal[3]), dim='experiment')\n",
    "psd_concat['experiment'] = [\"Mid_autumn\", \"Mid_winter\", \"Mid_spring\", \"Mid_summer\"] \n",
    "plot_psd_score_seasonal(psd_concat, time_min=5,time_max=25, step_time=5)"
   ]
  }
 ],
 "metadata": {
  "kernelspec": {
   "display_name": "Python 3 (ipykernel)",
   "language": "python",
   "name": "python3"
  },
  "language_info": {
   "codemirror_mode": {
    "name": "ipython",
    "version": 3
   },
   "file_extension": ".py",
   "mimetype": "text/x-python",
   "name": "python",
   "nbconvert_exporter": "python",
   "pygments_lexer": "ipython3",
   "version": "3.10.11"
  }
 },
 "nbformat": 4,
 "nbformat_minor": 5
}
