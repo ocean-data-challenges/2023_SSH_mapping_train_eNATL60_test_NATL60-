{
 "cells": [
  {
   "cell_type": "markdown",
   "id": "830bec6e-ed45-4073-8a45-7abef9936db5",
   "metadata": {},
   "source": [
    "# Along track binning\n",
    "### For mapping methods that take as input gridded observations instead of raw along tracks, we provide this binning script that interpolates simulated along tracks observations on a daily grid whose spatial resolution is left to the user's choice (1/8° or 1/20°)."
   ]
  },
  {
   "cell_type": "code",
   "execution_count": null,
   "id": "5245911b-b054-4322-a2e6-17b965890d86",
   "metadata": {
    "tags": []
   },
   "outputs": [],
   "source": [
    "import glob\n",
    "import xarray as xr\n",
    "import pyinterp\n",
    "import numpy as np\n",
    "import pyinterp\n",
    "import os"
   ]
  },
  {
   "cell_type": "markdown",
   "id": "dd8b2896-9ffd-475e-9a63-794dcde166fa",
   "metadata": {},
   "source": [
    "## 1. Input"
   ]
  },
  {
   "cell_type": "markdown",
   "id": "7fc654ac-8c00-41a7-8cb7-d26e34d4dbca",
   "metadata": {},
   "source": [
    "### 1.1 Choice of the target grid : 1/8° of 1/20°"
   ]
  },
  {
   "cell_type": "code",
   "execution_count": null,
   "id": "1070733f-8d6a-436f-8cac-6e127ac81f12",
   "metadata": {},
   "outputs": [],
   "source": [
    "path_to_grid = '/material_data_challenge/NATL60-CJM165/reg_1_8_daily.zarr' # or '/material_data_challenge/NATL60-CJM165/reg_1_20_daily.zarr'"
   ]
  },
  {
   "cell_type": "code",
   "execution_count": null,
   "id": "9b146f5a-5fb1-4af2-ac90-975cee1614e1",
   "metadata": {
    "tags": []
   },
   "outputs": [],
   "source": [
    "ds_ssh_maps = xr.open_zarr(path_to_grid)\n",
    "ds_ssh_maps"
   ]
  },
  {
   "cell_type": "code",
   "execution_count": null,
   "id": "1926b41a-72c4-4228-b2fb-611db71fa496",
   "metadata": {
    "tags": []
   },
   "outputs": [],
   "source": [
    "lon_is_circle = False"
   ]
  },
  {
   "cell_type": "markdown",
   "id": "9274b145-b888-4dc4-ba69-fef7f8cdc040",
   "metadata": {},
   "source": [
    "### 1.2 Choice of the constellation to be binned"
   ]
  },
  {
   "cell_type": "code",
   "execution_count": null,
   "id": "d0110e8d-46c4-456a-a840-d8da4ac1de8e",
   "metadata": {
    "tags": []
   },
   "outputs": [],
   "source": [
    "alongtrack_folder = '/material_data_challenge/NATL60-CJM165/alongtrack'"
   ]
  },
  {
   "cell_type": "markdown",
   "id": "c38e7345-f1e0-4a59-a45a-05e339fd2deb",
   "metadata": {},
   "source": [
    "Choose the constellation :"
   ]
  },
  {
   "cell_type": "code",
   "execution_count": null,
   "id": "6be42c4b-90ac-4410-a5c9-2de2613d0788",
   "metadata": {
    "tags": []
   },
   "outputs": [],
   "source": [
    "list_mission_of_interest = ['alg', 'c2', 'h2ag', 'h2b', 'j3', 's3a', 's3b'] "
   ]
  },
  {
   "cell_type": "markdown",
   "id": "5f539309-6529-4561-8597-407e87a32f8f",
   "metadata": {},
   "source": [
    "### 1.3 Choice of the period of interest"
   ]
  },
  {
   "cell_type": "code",
   "execution_count": null,
   "id": "a5af39c2-9d6c-4001-b72f-443d32f56948",
   "metadata": {},
   "outputs": [],
   "source": [
    "vtime = np.arange(np.datetime64('2012-12-01'), np.datetime64('2013-01-01'))\n",
    "vtime"
   ]
  },
  {
   "cell_type": "markdown",
   "id": "7b8ed7e2-aeaf-4406-8dae-dd5a88b3371d",
   "metadata": {},
   "source": [
    "## 2. Output "
   ]
  },
  {
   "cell_type": "code",
   "execution_count": null,
   "id": "d4ae4ed3-a4b8-418d-8bcf-ef05019009a4",
   "metadata": {
    "tags": []
   },
   "outputs": [],
   "source": [
    "output_dir = '../alongtrack_binning_1_8'\n",
    "os.system(f'mkdir -p {output_dir}')"
   ]
  },
  {
   "cell_type": "markdown",
   "id": "3e2e0614-bcd5-4523-b595-4ed42c3e9299",
   "metadata": {
    "tags": []
   },
   "source": [
    "## 3. Binning"
   ]
  },
  {
   "cell_type": "code",
   "execution_count": null,
   "id": "b8325b8e-3db3-418e-9e45-48bee4a5cd37",
   "metadata": {
    "tags": []
   },
   "outputs": [],
   "source": [
    "def alongtrack_binning(date):\n",
    "    \n",
    "    date_of_interest = np.datetime_as_string(date, unit='D')\n",
    "    \n",
    "    # Select files for one particular date of interest\n",
    "    list_of_file = []\n",
    "    for cmission in list_mission_of_interest:\n",
    "        date_of_interest2 = date_of_interest.replace('-', '')\n",
    "        list_of_file.append(glob.glob(f'{alongtrack_folder}/{cmission}/*/dt_global_{cmission}_phy_l3_{date_of_interest2}_*.nc'))\n",
    "    list_of_file = [item for sublist in list_of_file for item in sublist]\n",
    "    print(list_of_file)\n",
    "    \n",
    "    # Read alongtrack of interest\n",
    "    ds_alongtrack = xr.open_mfdataset(list_of_file, combine='nested', concat_dim='time')\n",
    "    # change alongtrack lon between -180__180\n",
    "    ds_alongtrack['longitude'] = ds_alongtrack['longitude'].where(ds_alongtrack['longitude'] <=180, ds_alongtrack['longitude'] - 360.)\n",
    "    \n",
    "    # create binning grid\n",
    "    lon_out = ds_ssh_maps.lon\n",
    "    lat_out = ds_ssh_maps.lat\n",
    "    binning = pyinterp.Binning2D(pyinterp.Axis(lon_out, is_circle=lon_is_circle), \n",
    "                                 pyinterp.Axis(lat_out))\n",
    "    binning.clear()\n",
    "    binning.push(ds_alongtrack['longitude'], ds_alongtrack['latitude'], ds_alongtrack['ssh_norm'], True)\n",
    "    mean_sla = binning.variable('mean').T\n",
    "    \n",
    "    ds_out = xr.Dataset({'ssh_norm' : (('time', 'lat', 'lon'), np.expand_dims(mean_sla, axis=0)) },\n",
    "                               coords={'time': [date],\n",
    "                                       'lon': lon_out, \n",
    "                                       'lat': lat_out, \n",
    "                                       })\n",
    "    \n",
    "    ds_out.to_netcdf(f'{output_dir}/alongtrack_binning_{date_of_interest2}.nc')\n",
    "    \n",
    "    \n",
    "\n",
    "    "
   ]
  },
  {
   "cell_type": "code",
   "execution_count": null,
   "id": "3380c762-2346-471b-9a52-ae8238d08256",
   "metadata": {
    "tags": []
   },
   "outputs": [],
   "source": [
    "for time in vtime:\n",
    "    alongtrack_binning(time)"
   ]
  }
 ],
 "metadata": {
  "kernelspec": {
   "display_name": "4dvarnet",
   "language": "python",
   "name": "4dvarnet"
  },
  "language_info": {
   "codemirror_mode": {
    "name": "ipython",
    "version": 3
   },
   "file_extension": ".py",
   "mimetype": "text/x-python",
   "name": "python",
   "nbconvert_exporter": "python",
   "pygments_lexer": "ipython3",
   "version": "3.10.12"
  }
 },
 "nbformat": 4,
 "nbformat_minor": 5
}
